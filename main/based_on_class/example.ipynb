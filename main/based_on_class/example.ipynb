{
 "cells": [
  {
   "cell_type": "code",
   "execution_count": 4,
   "metadata": {},
   "outputs": [],
   "source": [
    "import numpy as np"
   ]
  },
  {
   "cell_type": "code",
   "execution_count": 5,
   "metadata": {},
   "outputs": [],
   "source": [
    "class PREPROCESSOR:\n",
    "    def __init__(self, values) -> None:\n",
    "        self.values = values\n",
    "\n",
    "    def __call__(self, CFG):\n",
    "        return np.array(self.values) / CFG[\"div\"]\n",
    "\n",
    "\n",
    "class PROCESSOR:\n",
    "    def __init__(self, pre_value) -> None:\n",
    "        self.values = pre_value\n",
    "\n",
    "    def __call__(self, CFG):\n",
    "        pro_value = self.values * CFG[\"coef\"]\n",
    "        return pro_value\n",
    "\n",
    "\n",
    "class POSTPROCESSOR:\n",
    "    def __init__(self, pro_value) -> None:\n",
    "        self.value = pro_value\n",
    "\n",
    "    def __call__(self, CFG):\n",
    "        pos_value = list(self.value * CFG[\"mul\"])\n",
    "        return pos_value"
   ]
  },
  {
   "cell_type": "code",
   "execution_count": 6,
   "metadata": {},
   "outputs": [],
   "source": [
    "class PIPELINE:\n",
    "    def __init__(self, PREPROCESSOR, PROCESSOR, POSTPROCESSOR) -> None:\n",
    "        self.PREPROCESSOR = PREPROCESSOR\n",
    "        self.PROCESSOR = PROCESSOR\n",
    "        self.POSTPROCESSOR = POSTPROCESSOR\n",
    "\n",
    "    def __call__(self, value, PRE_CFG, PRO_CFG, POS_CFG):\n",
    "        pre_value = self.PREPROCESSOR(value)(PRE_CFG)\n",
    "        pro_value = self.PROCESSOR(pre_value)(PRO_CFG)\n",
    "        post_value = self.POSTPROCESSOR(pro_value)(POS_CFG)\n",
    "        return post_value"
   ]
  },
  {
   "cell_type": "code",
   "execution_count": 7,
   "metadata": {},
   "outputs": [
    {
     "data": {
      "text/plain": [
       "[4.0, 8.0, 12.0]"
      ]
     },
     "execution_count": 7,
     "metadata": {},
     "output_type": "execute_result"
    }
   ],
   "source": [
    "value = [1, 2, 3]\n",
    "PRE_CFG = {\"div\": 2}\n",
    "PRO_CFG = {\"coef\": 2}\n",
    "POS_CFG = {\"mul\": 4}\n",
    "\n",
    "pipeline = PIPELINE(PREPROCESSOR, PROCESSOR, POSTPROCESSOR)\n",
    "pipeline(value, PRE_CFG, PRO_CFG, POS_CFG)"
   ]
  }
 ],
 "metadata": {
  "kernelspec": {
   "display_name": "quant_trading",
   "language": "python",
   "name": "python3"
  },
  "language_info": {
   "codemirror_mode": {
    "name": "ipython",
    "version": 3
   },
   "file_extension": ".py",
   "mimetype": "text/x-python",
   "name": "python",
   "nbconvert_exporter": "python",
   "pygments_lexer": "ipython3",
   "version": "3.10.13"
  }
 },
 "nbformat": 4,
 "nbformat_minor": 2
}
